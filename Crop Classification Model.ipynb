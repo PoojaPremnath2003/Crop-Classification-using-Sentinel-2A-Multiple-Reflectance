{
 "cells": [
  {
   "cell_type": "code",
   "execution_count": 1,
   "id": "34b785f0",
   "metadata": {
    "scrolled": true
   },
   "outputs": [
    {
     "name": "stdout",
     "output_type": "stream",
     "text": [
      "chana: 2076 records\n",
      "Garlic: 8492 records\n",
      "G_Onion: 1688 records\n",
      "Onion: 504 records\n",
      "Wheat: 720 records\n",
      "onion: 31344 records\n",
      "maize: 876 records\n",
      "wheat: 29880 records\n",
      "G_onion: 3620 records\n",
      "beet_root: 252 records\n",
      "flow_onion: 484 records\n",
      "wheat_harv: 892 records\n",
      "marigold: 176 records\n",
      "G: 716 records\n",
      "coriander: 480 records\n",
      "U4: 748 records\n",
      "jwar: 192 records\n",
      "bajra: 180 records\n",
      "83320\n"
     ]
    }
   ],
   "source": [
    "import pandas as pd\n",
    "\n",
    "\n",
    "df = pd.read_csv('reflectance_sentinel.csv')\n",
    "\n",
    "\n",
    "crop_types = df['Crop_class'].unique()\n",
    "\n",
    "crop_sum=0\n",
    "\n",
    "for crop_type in crop_types:\n",
    "    count = df[df['Crop_class'] == crop_type].shape[0]\n",
    "    print(f'{crop_type}: {count} records')\n",
    "    crop_sum+=count\n",
    "    \n",
    "print(crop_sum)\n"
   ]
  },
  {
   "cell_type": "code",
   "execution_count": 2,
   "id": "d4afee4b",
   "metadata": {
    "scrolled": true
   },
   "outputs": [
    {
     "name": "stdout",
     "output_type": "stream",
     "text": [
      "18\n"
     ]
    }
   ],
   "source": [
    "print(len(crop_types))"
   ]
  },
  {
   "cell_type": "code",
   "execution_count": 3,
   "id": "c8a5fb8f",
   "metadata": {
    "scrolled": true
   },
   "outputs": [
    {
     "name": "stdout",
     "output_type": "stream",
     "text": [
      "Index(['Crop_class', 'B02_refl', 'B03_refl', 'B04_refl', 'B08_refl'], dtype='object')\n"
     ]
    }
   ],
   "source": [
    "print(df.columns)"
   ]
  },
  {
   "cell_type": "markdown",
   "id": "da887ec4",
   "metadata": {},
   "source": [
    "# Replacing the Crop Names"
   ]
  },
  {
   "cell_type": "code",
   "execution_count": 4,
   "id": "3e5b11b4",
   "metadata": {},
   "outputs": [],
   "source": [
    "df['Crop_class'] = df['Crop_class'].replace('G_onion', 'G_Onion')\n",
    "df['Crop_class'] = df['Crop_class'].replace('Onion', 'onion')\n"
   ]
  },
  {
   "cell_type": "code",
   "execution_count": 5,
   "id": "165591f7",
   "metadata": {},
   "outputs": [
    {
     "name": "stdout",
     "output_type": "stream",
     "text": [
      "chana: 2076 records\n",
      "Garlic: 8492 records\n",
      "G_Onion: 5308 records\n",
      "onion: 31848 records\n",
      "Wheat: 720 records\n",
      "maize: 876 records\n",
      "wheat: 29880 records\n",
      "beet_root: 252 records\n",
      "flow_onion: 484 records\n",
      "wheat_harv: 892 records\n",
      "marigold: 176 records\n",
      "G: 716 records\n",
      "coriander: 480 records\n",
      "U4: 748 records\n",
      "jwar: 192 records\n",
      "bajra: 180 records\n"
     ]
    }
   ],
   "source": [
    "crop_types = df['Crop_class'].unique()\n",
    "\n",
    "\n",
    "for crop_type in crop_types:\n",
    "    count = df[df['Crop_class'] == crop_type].shape[0]\n",
    "    print(f'{crop_type}: {count} records')"
   ]
  },
  {
   "cell_type": "code",
   "execution_count": 6,
   "id": "5fa782d8",
   "metadata": {},
   "outputs": [
    {
     "name": "stdout",
     "output_type": "stream",
     "text": [
      "16\n"
     ]
    }
   ],
   "source": [
    "print(len(crop_types))"
   ]
  },
  {
   "cell_type": "markdown",
   "id": "f0861f5f",
   "metadata": {},
   "source": [
    "# Removal of NULL Values"
   ]
  },
  {
   "cell_type": "code",
   "execution_count": 7,
   "id": "e88ca77d",
   "metadata": {},
   "outputs": [],
   "source": [
    "df = df.loc[(df!=0).any(axis=1)]\n",
    "\n"
   ]
  },
  {
   "cell_type": "code",
   "execution_count": 8,
   "id": "70a8b1d2",
   "metadata": {
    "scrolled": true
   },
   "outputs": [
    {
     "name": "stdout",
     "output_type": "stream",
     "text": [
      "chana: 2076 records\n",
      "Garlic: 8492 records\n",
      "G_Onion: 5308 records\n",
      "onion: 31848 records\n",
      "Wheat: 720 records\n",
      "maize: 876 records\n",
      "wheat: 29880 records\n",
      "beet_root: 252 records\n",
      "flow_onion: 484 records\n",
      "wheat_harv: 892 records\n",
      "marigold: 176 records\n",
      "G: 716 records\n",
      "coriander: 480 records\n",
      "U4: 748 records\n",
      "jwar: 192 records\n",
      "bajra: 180 records\n"
     ]
    }
   ],
   "source": [
    "crop_types = df['Crop_class'].unique()\n",
    "\n",
    "\n",
    "for crop_type in crop_types:\n",
    "    count = df[df['Crop_class'] == crop_type].shape[0]\n",
    "    print(f'{crop_type}: {count} records')"
   ]
  },
  {
   "cell_type": "code",
   "execution_count": 9,
   "id": "3faa87b7",
   "metadata": {},
   "outputs": [],
   "source": [
    "from sklearn.model_selection import train_test_split\n",
    "from sklearn.preprocessing import StandardScaler\n",
    "from sklearn.feature_selection import SelectKBest\n",
    "from sklearn.feature_selection import f_regression"
   ]
  },
  {
   "cell_type": "code",
   "execution_count": 10,
   "id": "c5b0d19b",
   "metadata": {},
   "outputs": [],
   "source": [
    "scaler = StandardScaler()\n",
    "X = df[['B02_refl', 'B03_refl', 'B04_refl', 'B08_refl']]\n",
    "X_scaled = scaler.fit_transform(X)\n",
    "df[['B02_refl', 'B03_refl', 'B04_refl', 'B08_refl']] = X_scaled"
   ]
  },
  {
   "cell_type": "code",
   "execution_count": 11,
   "id": "f4b7a123",
   "metadata": {
    "scrolled": true
   },
   "outputs": [
    {
     "name": "stdout",
     "output_type": "stream",
     "text": [
      "  Crop_class  B02_refl  B03_refl  B04_refl  B08_refl\n",
      "0      chana  0.306172  0.270444 -0.975151 -0.938290\n",
      "1      chana -0.918834 -0.976298 -0.975151  0.535666\n",
      "2      chana  0.545026 -0.976298 -0.975151 -0.938290\n",
      "3      chana -0.918834 -0.976298  0.559392  0.623570\n",
      "4      chana -0.918834 -0.976298 -0.975151 -0.938290\n"
     ]
    }
   ],
   "source": [
    "print(df.head())"
   ]
  },
  {
   "cell_type": "markdown",
   "id": "bd62a45e",
   "metadata": {},
   "source": [
    "# EDA"
   ]
  },
  {
   "cell_type": "code",
   "execution_count": 12,
   "id": "257e3514",
   "metadata": {
    "scrolled": true
   },
   "outputs": [
    {
     "name": "stdout",
     "output_type": "stream",
     "text": [
      "           B02_refl      B03_refl      B04_refl      B08_refl\n",
      "count  8.332000e+04  8.332000e+04  8.332000e+04  8.332000e+04\n",
      "mean  -4.860890e-18  3.411151e-17  3.786378e-17 -6.140072e-17\n",
      "std    1.000006e+00  1.000006e+00  1.000006e+00  1.000006e+00\n",
      "min   -9.188344e-01 -9.762983e-01 -9.751514e-01 -9.382896e-01\n",
      "25%   -9.188344e-01 -9.762983e-01 -9.751514e-01 -9.382896e-01\n",
      "50%    1.683035e-01  1.672774e-01  1.613860e-01  1.769439e-01\n",
      "75%    4.668713e-01  4.295654e-01  4.244008e-01  4.655195e-01\n",
      "max    4.814545e+00  4.829884e+00  4.717987e+00  4.821678e+00\n"
     ]
    }
   ],
   "source": [
    "print(df.describe())"
   ]
  },
  {
   "cell_type": "code",
   "execution_count": 13,
   "id": "9c946c64",
   "metadata": {},
   "outputs": [
    {
     "data": {
      "image/png": "[encoded data removed]",
      "text/plain": [
       "<Figure size 720x720 with 4 Axes>"
      ]
     },
     "metadata": {
      "needs_background": "light"
     },
     "output_type": "display_data"
    }
   ],
   "source": [
    "#Histograms to visualize diff bands\n",
    "import matplotlib.pyplot as plt\n",
    "\n",
    "\n",
    "fig, axs = plt.subplots(2, 2, figsize=(10, 10))\n",
    "axs[0, 0].hist(df['B02_refl'])\n",
    "axs[0, 0].set_title('B02_refl')\n",
    "axs[0, 1].hist(df['B03_refl'])\n",
    "axs[0, 1].set_title('B03_refl')\n",
    "axs[1, 0].hist(df['B04_refl'])\n",
    "axs[1, 0].set_title('B04_refl')\n",
    "axs[1, 1].hist(df['B08_refl'])\n",
    "axs[1, 1].set_title('B08_refl')\n",
    "\n",
    "plt.show()\n"
   ]
  },
  {
   "cell_type": "code",
   "execution_count": 14,
   "id": "6164f273",
   "metadata": {},
   "outputs": [
    {
     "data": {
      "image/png": "[encoded data removed]",
      "text/plain": [
       "<Figure size 432x288 with 16 Axes>"
      ]
     },
     "metadata": {
      "needs_background": "light"
     },
     "output_type": "display_data"
    }
   ],
   "source": [
    "from pandas.plotting import scatter_matrix\n",
    "\n",
    "\n",
    "scatter_matrix(df[['Crop_class', 'B02_refl', 'B03_refl', 'B04_refl', 'B08_refl']], diagonal='hist')\n",
    "\n",
    "plt.show()\n"
   ]
  },
  {
   "cell_type": "code",
   "execution_count": 15,
   "id": "7700d438",
   "metadata": {
    "scrolled": true
   },
   "outputs": [
    {
     "data": {
      "image/png": "[encoded data removed]",
      "text/plain": [
       "<Figure size 720x720 with 4 Axes>"
      ]
     },
     "metadata": {
      "needs_background": "light"
     },
     "output_type": "display_data"
    }
   ],
   "source": [
    "\n",
    "fig, axs = plt.subplots(2, 2, figsize=(10, 10))\n",
    "df.boxplot(column=['B02_refl'], by='Crop_class', ax=axs[0, 0])\n",
    "df.boxplot(column=['B03_refl'], by='Crop_class', ax=axs[0, 1])\n",
    "df.boxplot(column=['B04_refl'], by='Crop_class', ax=axs[1, 0])\n",
    "df.boxplot(column=['B08_refl'], by='Crop_class', ax=axs[1, 1])\n",
    "\n",
    "plt.show()\n"
   ]
  },
  {
   "cell_type": "markdown",
   "id": "11cc3813",
   "metadata": {},
   "source": [
    "# Outlier Detection"
   ]
  },
  {
   "cell_type": "code",
   "execution_count": 16,
   "id": "ead92a64",
   "metadata": {
    "scrolled": true
   },
   "outputs": [
    {
     "name": "stderr",
     "output_type": "stream",
     "text": [
      "C:\\Users\\pooja\\AppData\\Local\\Temp\\ipykernel_65632\\1334898046.py:10: FutureWarning: Dropping of nuisance columns in DataFrame reductions (with 'numeric_only=None') is deprecated; in a future version this will raise TypeError.  Select only valid columns before calling the reduction.\n",
      "  z_scores = np.abs((crop_df - crop_df.mean()) / crop_df.std(ddof=0))\n",
      "C:\\Users\\pooja\\AppData\\Local\\Temp\\ipykernel_65632\\1334898046.py:10: FutureWarning: Dropping of nuisance columns in DataFrame reductions (with 'numeric_only=None') is deprecated; in a future version this will raise TypeError.  Select only valid columns before calling the reduction.\n",
      "  z_scores = np.abs((crop_df - crop_df.mean()) / crop_df.std(ddof=0))\n",
      "C:\\Users\\pooja\\AppData\\Local\\Temp\\ipykernel_65632\\1334898046.py:10: FutureWarning: Dropping of nuisance columns in DataFrame reductions (with 'numeric_only=None') is deprecated; in a future version this will raise TypeError.  Select only valid columns before calling the reduction.\n",
      "  z_scores = np.abs((crop_df - crop_df.mean()) / crop_df.std(ddof=0))\n"
     ]
    },
    {
     "name": "stdout",
     "output_type": "stream",
     "text": [
      "Outliers for chana: 7\n",
      "      Crop_class  B02_refl  B03_refl  B04_refl  B08_refl\n",
      "104        chana  2.887905  2.218370  2.022521  -0.93829\n",
      "41680      chana  3.082852  3.073428 -0.975151  -0.93829\n",
      "41722      chana  2.867707  2.344268 -0.975151  -0.93829\n",
      "41764      chana  2.872098  2.346016  1.974621  -0.93829\n",
      "62510      chana  3.099536  3.087417 -0.975151  -0.93829\n",
      "62552      chana  2.881758  2.351262 -0.975151  -0.93829\n",
      "62594      chana  2.881758  2.358256  1.982459  -0.93829\n",
      "Outliers for Garlic: 154\n",
      "      Crop_class  B02_refl  B03_refl  B04_refl  B08_refl\n",
      "6020      Garlic -0.918834 -0.976298  2.838563  2.008733\n",
      "15977     Garlic -0.918834 -0.976298  3.065000  1.777872\n",
      "15988     Garlic -0.918834 -0.976298  3.235698  2.277774\n",
      "16010     Garlic -0.918834 -0.976298 -0.975151  3.028958\n",
      "16021     Garlic -0.918834 -0.976298 -0.975151  3.224302\n",
      "...          ...       ...       ...       ...       ...\n",
      "78796     Garlic  2.902833  3.332219 -0.975151 -0.938290\n",
      "78802     Garlic  3.085486  3.461615 -0.975151 -0.938290\n",
      "78808     Garlic  3.208426  3.489592 -0.975151 -0.938290\n",
      "78814     Garlic  3.377029  3.521067 -0.975151 -0.938290\n",
      "78820     Garlic  3.204913  3.447626 -0.975151 -0.938290\n",
      "\n",
      "[154 rows x 5 columns]\n",
      "Outliers for G_Onion: 66\n",
      "      Crop_class  B02_refl  B03_refl  B04_refl  B08_refl\n",
      "673      G_Onion  2.912492  2.964142  3.076322  3.209207\n",
      "687      G_Onion  2.796578  2.947530  3.065871  3.238509\n",
      "688      G_Onion  3.137296  3.073428 -0.975151 -0.938290\n",
      "17671    G_Onion  2.997672  3.151241  2.968329  2.622289\n",
      "17689    G_Onion  3.068801  3.125886  3.031034  2.656030\n",
      "...          ...       ...       ...       ...       ...\n",
      "75225    G_Onion  3.313803 -0.976298 -0.975151 -0.938290\n",
      "75236    G_Onion  3.046848 -0.976298 -0.975151 -0.938290\n",
      "80143    G_Onion  2.944984  3.101406  3.020583  2.723512\n",
      "80161    G_Onion  2.997672  3.199327  3.118125  2.787443\n",
      "80179    G_Onion  2.916883  3.248287  3.180831  2.798098\n",
      "\n",
      "[66 rows x 5 columns]\n"
     ]
    },
    {
     "name": "stderr",
     "output_type": "stream",
     "text": [
      "C:\\Users\\pooja\\AppData\\Local\\Temp\\ipykernel_65632\\1334898046.py:10: FutureWarning: Dropping of nuisance columns in DataFrame reductions (with 'numeric_only=None') is deprecated; in a future version this will raise TypeError.  Select only valid columns before calling the reduction.\n",
      "  z_scores = np.abs((crop_df - crop_df.mean()) / crop_df.std(ddof=0))\n",
      "C:\\Users\\pooja\\AppData\\Local\\Temp\\ipykernel_65632\\1334898046.py:10: FutureWarning: Dropping of nuisance columns in DataFrame reductions (with 'numeric_only=None') is deprecated; in a future version this will raise TypeError.  Select only valid columns before calling the reduction.\n",
      "  z_scores = np.abs((crop_df - crop_df.mean()) / crop_df.std(ddof=0))\n",
      "C:\\Users\\pooja\\AppData\\Local\\Temp\\ipykernel_65632\\1334898046.py:10: FutureWarning: Dropping of nuisance columns in DataFrame reductions (with 'numeric_only=None') is deprecated; in a future version this will raise TypeError.  Select only valid columns before calling the reduction.\n",
      "  z_scores = np.abs((crop_df - crop_df.mean()) / crop_df.std(ddof=0))\n",
      "C:\\Users\\pooja\\AppData\\Local\\Temp\\ipykernel_65632\\1334898046.py:10: FutureWarning: Dropping of nuisance columns in DataFrame reductions (with 'numeric_only=None') is deprecated; in a future version this will raise TypeError.  Select only valid columns before calling the reduction.\n",
      "  z_scores = np.abs((crop_df - crop_df.mean()) / crop_df.std(ddof=0))\n",
      "C:\\Users\\pooja\\AppData\\Local\\Temp\\ipykernel_65632\\1334898046.py:10: FutureWarning: Dropping of nuisance columns in DataFrame reductions (with 'numeric_only=None') is deprecated; in a future version this will raise TypeError.  Select only valid columns before calling the reduction.\n",
      "  z_scores = np.abs((crop_df - crop_df.mean()) / crop_df.std(ddof=0))\n"
     ]
    },
    {
     "name": "stdout",
     "output_type": "stream",
     "text": [
      "Outliers for onion: 420\n",
      "      Crop_class  B02_refl  B03_refl  B04_refl  B08_refl\n",
      "4810       onion  1.959710  2.892450  2.855981  2.436712\n",
      "4821       onion  2.006251  3.489592  3.596255  2.790994\n",
      "4832       onion  2.022936  3.195829  2.864690  1.723709\n",
      "5294       onion -0.918834 -0.976298 -0.975151  2.925959\n",
      "5312       onion -0.918834 -0.976298 -0.975151  3.695790\n",
      "...          ...       ...       ...       ...       ...\n",
      "81887      onion -0.918834  2.012036  2.964845  3.401887\n",
      "81904      onion -0.918834  2.375742  3.180831  3.419645\n",
      "81921      onion -0.918834  2.569835  3.323660  3.266922\n",
      "81938      onion  2.038743  2.678248  3.229602  2.933062\n",
      "81955      onion  2.128313  2.583824  2.933492  2.551255\n",
      "\n",
      "[420 rows x 5 columns]\n",
      "Outliers for Wheat: 0\n",
      "Empty DataFrame\n",
      "Columns: [Crop_class, B02_refl, B03_refl, B04_refl, B08_refl]\n",
      "Index: []\n",
      "Outliers for maize: 58\n",
      "      Crop_class  B02_refl  B03_refl  B04_refl  B08_refl\n",
      "11458      maize  4.093591  4.234490  4.129252 -0.938290\n",
      "11465      maize  4.118179  4.289570  4.110963 -0.938290\n",
      "11472      maize  3.826637  3.891767  3.913266 -0.938290\n",
      "11479      maize  4.008412  4.101597  4.056095 -0.938290\n",
      "11486      maize  4.095348  4.426835  4.334786 -0.938290\n",
      "11492      maize -0.918834 -0.976298  2.416172  4.040305\n",
      "11493      maize  4.088323  4.537870  4.292112 -0.938290\n",
      "11499      maize -0.918834 -0.976298  2.920429  4.176157\n",
      "11500      maize  4.142767  4.459183  4.072643 -0.938290\n",
      "11506      maize -0.918834 -0.976298  3.132060  3.987917\n",
      "11507      maize  4.034756  4.074494  3.752148 -0.938290\n",
      "16378      maize  4.679311  3.577021  2.089581  1.528365\n",
      "16384      maize  4.623110  3.248287  1.945010  1.790303\n",
      "16390      maize  4.588863  2.975508  1.745571  1.665106\n",
      "16395      maize  0.394864  0.493389 -0.975151  4.528663\n",
      "16396      maize  4.596766  2.728083  1.686349  1.688192\n",
      "16401      maize  0.377301  0.385851 -0.975151  4.620119\n",
      "16407      maize  0.348322  0.337765 -0.975151  4.613016\n",
      "16413      maize  0.372910  0.340387 -0.975151  4.488707\n",
      "32288      maize  3.974164  4.102472  3.996873 -0.938290\n",
      "32295      maize  3.995240  4.154055  3.999486 -0.938290\n",
      "32302      maize  3.714235  3.772863  3.787855 -0.938290\n",
      "32309      maize  3.884594  3.973076  3.926330 -0.938290\n",
      "32316      maize  3.987336  4.293942  4.180635 -0.938290\n",
      "32322      maize -0.918834 -0.976298  2.364788  3.912443\n",
      "32323      maize  3.959236  4.377874  4.150154 -0.938290\n",
      "32329      maize -0.918834 -0.976298  2.835950  4.044744\n",
      "32330      maize  4.009290  4.304433  3.936781 -0.938290\n",
      "32336      maize -0.918834 -0.976298  3.044969  3.866271\n",
      "32337      maize  3.903913  3.965208  3.650251 -0.938290\n",
      "37225      maize  0.426477  0.515246 -0.975151  4.389259\n",
      "37231      maize  0.410670  0.416451 -0.975151  4.470948\n",
      "37237      maize  0.384326  0.370113 -0.975151  4.467396\n",
      "37243      maize  0.407158  0.371862 -0.975151  4.357294\n",
      "53118      maize  4.076029  4.140066  3.894106 -0.938290\n",
      "53125      maize  4.048806  4.056134  3.884526 -0.938290\n",
      "53132      maize  3.946064  3.895264  3.724279 -0.938290\n",
      "53139      maize  3.910060  4.052637  3.813982 -0.938290\n",
      "53146      maize  4.020706  4.241484  3.892364 -0.938290\n",
      "53153      maize  4.097104  4.269462  3.846206 -0.938290\n",
      "53159      maize -0.918834 -0.976298  3.145994  3.998572\n",
      "53160      maize  4.189309  4.157552  3.755631 -0.938290\n",
      "53166      maize -0.918834 -0.976298  3.020583  3.856504\n",
      "53167      maize  4.059344  3.986191  3.685959 -0.938290\n",
      "58061      maize  0.547660  0.564207 -0.975151  3.880478\n",
      "58067      maize  0.530976  0.500383 -0.975151  3.863608\n",
      "73948      maize  4.104129  4.168044  3.926330 -0.938290\n",
      "73955      maize  4.076029  4.087609  3.908911 -0.938290\n",
      "73962      maize  3.974164  3.923242  3.748664 -0.938290\n",
      "73969      maize  3.939039  4.080614  3.839239 -0.938290\n",
      "73976      maize  4.047928  4.269462  3.915879 -0.938290\n",
      "73983      maize  4.121692  4.300936  3.870591 -0.938290\n",
      "73989      maize -0.918834 -0.976298  3.166896  4.023434\n",
      "73990      maize  4.223556  4.189027  3.783500 -0.938290\n",
      "73996      maize -0.918834 -0.976298  3.038002  3.881366\n",
      "73997      maize  4.069003  4.010671  3.713828 -0.938290\n",
      "78891      maize  0.539757  0.555464 -0.975151  3.902676\n",
      "78897      maize  0.522194  0.492514 -0.975151  3.888469\n",
      "Outliers for wheat: 798\n",
      "      Crop_class  B02_refl  B03_refl  B04_refl  B08_refl\n",
      "4515       wheat  3.647496  3.748383  3.435136  3.256267\n",
      "4520       wheat  3.528069  3.517569  3.236569  3.004984\n",
      "4525       wheat  3.440255  3.412654  3.255729  2.780339\n",
      "4530       wheat  3.549144  3.555164  3.404655  2.689771\n",
      "4535       wheat  3.834540  3.925864  3.466489  2.358575\n",
      "...          ...       ...       ...       ...       ...\n",
      "82919      wheat  3.454305  3.517569  3.128576 -0.938290\n",
      "82942      wheat  2.051037  2.415960  2.943943  3.348611\n",
      "82943      wheat  3.415667  3.510575  3.128576 -0.938290\n",
      "82967      wheat  3.352441  3.517569  2.926525 -0.938290\n",
      "82991      wheat  3.327853  3.398666  2.682670 -0.938290\n",
      "\n",
      "[798 rows x 5 columns]\n",
      "Outliers for beet_root: 10\n",
      "      Crop_class  B02_refl  B03_refl  B04_refl  B08_refl\n",
      "44074  beet_root -0.918834 -0.976298  1.716831  2.805201\n",
      "44075  beet_root  3.187350  2.992993  2.888205 -0.938290\n",
      "44081  beet_root -0.918834 -0.976298  1.776924  2.815856\n",
      "44088  beet_root -0.918834  0.966381  1.863144  2.787443\n",
      "44089  beet_root  3.039823  2.926547  2.748859 -0.938290\n",
      "64904  beet_root -0.918834 -0.976298  1.719444  2.815856\n",
      "64905  beet_root  3.197888  3.006982  2.902140 -0.938290\n",
      "64911  beet_root -0.918834 -0.976298  1.782149  2.822960\n",
      "64918  beet_root -0.918834  0.959387  1.867499  2.805201\n",
      "64919  beet_root  3.057386  2.944033  2.759310 -0.938290\n"
     ]
    },
    {
     "name": "stderr",
     "output_type": "stream",
     "text": [
      "C:\\Users\\pooja\\AppData\\Local\\Temp\\ipykernel_65632\\1334898046.py:10: FutureWarning: Dropping of nuisance columns in DataFrame reductions (with 'numeric_only=None') is deprecated; in a future version this will raise TypeError.  Select only valid columns before calling the reduction.\n",
      "  z_scores = np.abs((crop_df - crop_df.mean()) / crop_df.std(ddof=0))\n",
      "C:\\Users\\pooja\\AppData\\Local\\Temp\\ipykernel_65632\\1334898046.py:10: FutureWarning: Dropping of nuisance columns in DataFrame reductions (with 'numeric_only=None') is deprecated; in a future version this will raise TypeError.  Select only valid columns before calling the reduction.\n",
      "  z_scores = np.abs((crop_df - crop_df.mean()) / crop_df.std(ddof=0))\n",
      "C:\\Users\\pooja\\AppData\\Local\\Temp\\ipykernel_65632\\1334898046.py:10: FutureWarning: Dropping of nuisance columns in DataFrame reductions (with 'numeric_only=None') is deprecated; in a future version this will raise TypeError.  Select only valid columns before calling the reduction.\n",
      "  z_scores = np.abs((crop_df - crop_df.mean()) / crop_df.std(ddof=0))\n",
      "C:\\Users\\pooja\\AppData\\Local\\Temp\\ipykernel_65632\\1334898046.py:10: FutureWarning: Dropping of nuisance columns in DataFrame reductions (with 'numeric_only=None') is deprecated; in a future version this will raise TypeError.  Select only valid columns before calling the reduction.\n",
      "  z_scores = np.abs((crop_df - crop_df.mean()) / crop_df.std(ddof=0))\n",
      "C:\\Users\\pooja\\AppData\\Local\\Temp\\ipykernel_65632\\1334898046.py:10: FutureWarning: Dropping of nuisance columns in DataFrame reductions (with 'numeric_only=None') is deprecated; in a future version this will raise TypeError.  Select only valid columns before calling the reduction.\n",
      "  z_scores = np.abs((crop_df - crop_df.mean()) / crop_df.std(ddof=0))\n",
      "C:\\Users\\pooja\\AppData\\Local\\Temp\\ipykernel_65632\\1334898046.py:10: FutureWarning: Dropping of nuisance columns in DataFrame reductions (with 'numeric_only=None') is deprecated; in a future version this will raise TypeError.  Select only valid columns before calling the reduction.\n",
      "  z_scores = np.abs((crop_df - crop_df.mean()) / crop_df.std(ddof=0))\n",
      "C:\\Users\\pooja\\AppData\\Local\\Temp\\ipykernel_65632\\1334898046.py:10: FutureWarning: Dropping of nuisance columns in DataFrame reductions (with 'numeric_only=None') is deprecated; in a future version this will raise TypeError.  Select only valid columns before calling the reduction.\n",
      "  z_scores = np.abs((crop_df - crop_df.mean()) / crop_df.std(ddof=0))\n",
      "C:\\Users\\pooja\\AppData\\Local\\Temp\\ipykernel_65632\\1334898046.py:10: FutureWarning: Dropping of nuisance columns in DataFrame reductions (with 'numeric_only=None') is deprecated; in a future version this will raise TypeError.  Select only valid columns before calling the reduction.\n",
      "  z_scores = np.abs((crop_df - crop_df.mean()) / crop_df.std(ddof=0))\n"
     ]
    },
    {
     "name": "stdout",
     "output_type": "stream",
     "text": [
      "Outliers for flow_onion: 0\n",
      "Empty DataFrame\n",
      "Columns: [Crop_class, B02_refl, B03_refl, B04_refl, B08_refl]\n",
      "Index: []\n",
      "Outliers for wheat_harv: 0\n",
      "Empty DataFrame\n",
      "Columns: [Crop_class, B02_refl, B03_refl, B04_refl, B08_refl]\n",
      "Index: []\n",
      "Outliers for marigold: 0\n",
      "Empty DataFrame\n",
      "Columns: [Crop_class, B02_refl, B03_refl, B04_refl, B08_refl]\n",
      "Index: []\n",
      "Outliers for G: 10\n",
      "      Crop_class  B02_refl  B03_refl  B04_refl  B08_refl\n",
      "17280          G -0.918834 -0.976298  2.316017  3.387680\n",
      "17288          G -0.918834 -0.976298  2.869916  3.668264\n",
      "17289          G  3.591295  3.489592  2.996198 -0.938290\n",
      "17296          G -0.918834 -0.976298  2.672219  3.370809\n",
      "38110          G -0.918834 -0.976298  2.283794  3.302439\n",
      "38118          G -0.918834 -0.976298  2.804598  3.561713\n",
      "38119          G  3.511384  3.412654  2.923041 -0.938290\n",
      "38126          G -0.918834 -0.976298  2.616481  3.285569\n",
      "54478          G  0.340419 -0.976298 -0.975151  3.224302\n",
      "75308          G  0.329003 -0.976298 -0.975151  3.238509\n",
      "Outliers for coriander: 0\n",
      "Empty DataFrame\n",
      "Columns: [Crop_class, B02_refl, B03_refl, B04_refl, B08_refl]\n",
      "Index: []\n",
      "Outliers for U4: 8\n",
      "      Crop_class  B02_refl  B03_refl  B04_refl  B08_refl\n",
      "13854         U4  1.856968  3.294625  3.093740  2.583220\n",
      "13865         U4  1.864871  3.315608  3.121609  2.490876\n",
      "55514         U4  2.186270  3.206321  3.240053  2.780339\n",
      "55525         U4  2.137094  3.403037  3.215667  2.722624\n",
      "55536         U4  2.235446  3.332219  3.100707  2.611634\n",
      "76344         U4  2.200321  3.216813  3.250504  2.790994\n",
      "76355         U4  2.145876  3.426643  3.236569  2.734167\n",
      "76366         U4  2.244228  3.353202  3.121609  2.618737\n",
      "Outliers for jwar: 1\n",
      "      Crop_class  B02_refl  B03_refl  B04_refl  B08_refl\n",
      "18949       jwar -0.918834 -0.976298 -0.975151  2.423394\n",
      "Outliers for bajra: 0\n",
      "Empty DataFrame\n",
      "Columns: [Crop_class, B02_refl, B03_refl, B04_refl, B08_refl]\n",
      "Index: []\n"
     ]
    }
   ],
   "source": [
    "\n",
    "import numpy as np\n",
    "crop_types = df['Crop_class'].unique()\n",
    "\n",
    "\n",
    "for crop in crop_types:\n",
    "   \n",
    "    crop_df = df[df['Crop_class'] == crop]\n",
    "    \n",
    "    \n",
    "    z_scores = np.abs((crop_df - crop_df.mean()) / crop_df.std(ddof=0))\n",
    "    \n",
    "   \n",
    "    outlier_mask = (z_scores > 3).any(axis=1)\n",
    "    outlier_rows = crop_df[outlier_mask]\n",
    "    \n",
    "   \n",
    "    print(f'Outliers for {crop}: {len(outlier_rows)}')\n",
    "    print(outlier_rows)\n"
   ]
  },
  {
   "cell_type": "code",
   "execution_count": 17,
   "id": "f000b702",
   "metadata": {},
   "outputs": [
    {
     "name": "stdout",
     "output_type": "stream",
     "text": [
      "Outliers for chana: 7\n",
      "      Crop_class  B02_refl  B03_refl  B04_refl  B08_refl\n",
      "104        chana  2.887905  2.218370  2.022521  -0.93829\n",
      "41680      chana  3.082852  3.073428 -0.975151  -0.93829\n",
      "41722      chana  2.867707  2.344268 -0.975151  -0.93829\n",
      "41764      chana  2.872098  2.346016  1.974621  -0.93829\n",
      "62510      chana  3.099536  3.087417 -0.975151  -0.93829\n",
      "62552      chana  2.881758  2.351262 -0.975151  -0.93829\n",
      "62594      chana  2.881758  2.358256  1.982459  -0.93829\n",
      "Outliers for Garlic: 154\n",
      "      Crop_class  B02_refl  B03_refl  B04_refl  B08_refl\n",
      "6020      Garlic -0.918834 -0.976298  2.838563  2.008733\n",
      "15977     Garlic -0.918834 -0.976298  3.065000  1.777872\n",
      "15988     Garlic -0.918834 -0.976298  3.235698  2.277774\n",
      "16010     Garlic -0.918834 -0.976298 -0.975151  3.028958\n",
      "16021     Garlic -0.918834 -0.976298 -0.975151  3.224302\n",
      "...          ...       ...       ...       ...       ...\n",
      "78796     Garlic  2.902833  3.332219 -0.975151 -0.938290\n",
      "78802     Garlic  3.085486  3.461615 -0.975151 -0.938290\n",
      "78808     Garlic  3.208426  3.489592 -0.975151 -0.938290\n",
      "78814     Garlic  3.377029  3.521067 -0.975151 -0.938290\n",
      "78820     Garlic  3.204913  3.447626 -0.975151 -0.938290\n",
      "\n",
      "[154 rows x 5 columns]\n",
      "Outliers for G_Onion: 66\n",
      "      Crop_class  B02_refl  B03_refl  B04_refl  B08_refl\n",
      "673      G_Onion  2.912492  2.964142  3.076322  3.209207\n",
      "687      G_Onion  2.796578  2.947530  3.065871  3.238509\n",
      "688      G_Onion  3.137296  3.073428 -0.975151 -0.938290\n",
      "17671    G_Onion  2.997672  3.151241  2.968329  2.622289\n",
      "17689    G_Onion  3.068801  3.125886  3.031034  2.656030\n",
      "...          ...       ...       ...       ...       ...\n",
      "75225    G_Onion  3.313803 -0.976298 -0.975151 -0.938290\n",
      "75236    G_Onion  3.046848 -0.976298 -0.975151 -0.938290\n",
      "80143    G_Onion  2.944984  3.101406  3.020583  2.723512\n",
      "80161    G_Onion  2.997672  3.199327  3.118125  2.787443\n",
      "80179    G_Onion  2.916883  3.248287  3.180831  2.798098\n",
      "\n",
      "[66 rows x 5 columns]\n"
     ]
    },
    {
     "name": "stderr",
     "output_type": "stream",
     "text": [
      "C:\\Users\\pooja\\AppData\\Local\\Temp\\ipykernel_65632\\3019596091.py:10: FutureWarning: Dropping of nuisance columns in DataFrame reductions (with 'numeric_only=None') is deprecated; in a future version this will raise TypeError.  Select only valid columns before calling the reduction.\n",
      "  z_scores = np.abs((crop_df - crop_df.mean()) / crop_df.std(ddof=0))\n",
      "C:\\Users\\pooja\\AppData\\Local\\Temp\\ipykernel_65632\\3019596091.py:10: FutureWarning: Dropping of nuisance columns in DataFrame reductions (with 'numeric_only=None') is deprecated; in a future version this will raise TypeError.  Select only valid columns before calling the reduction.\n",
      "  z_scores = np.abs((crop_df - crop_df.mean()) / crop_df.std(ddof=0))\n",
      "C:\\Users\\pooja\\AppData\\Local\\Temp\\ipykernel_65632\\3019596091.py:10: FutureWarning: Dropping of nuisance columns in DataFrame reductions (with 'numeric_only=None') is deprecated; in a future version this will raise TypeError.  Select only valid columns before calling the reduction.\n",
      "  z_scores = np.abs((crop_df - crop_df.mean()) / crop_df.std(ddof=0))\n",
      "C:\\Users\\pooja\\AppData\\Local\\Temp\\ipykernel_65632\\3019596091.py:10: FutureWarning: Dropping of nuisance columns in DataFrame reductions (with 'numeric_only=None') is deprecated; in a future version this will raise TypeError.  Select only valid columns before calling the reduction.\n",
      "  z_scores = np.abs((crop_df - crop_df.mean()) / crop_df.std(ddof=0))\n",
      "C:\\Users\\pooja\\AppData\\Local\\Temp\\ipykernel_65632\\3019596091.py:10: FutureWarning: Dropping of nuisance columns in DataFrame reductions (with 'numeric_only=None') is deprecated; in a future version this will raise TypeError.  Select only valid columns before calling the reduction.\n",
      "  z_scores = np.abs((crop_df - crop_df.mean()) / crop_df.std(ddof=0))\n",
      "C:\\Users\\pooja\\AppData\\Local\\Temp\\ipykernel_65632\\3019596091.py:10: FutureWarning: Dropping of nuisance columns in DataFrame reductions (with 'numeric_only=None') is deprecated; in a future version this will raise TypeError.  Select only valid columns before calling the reduction.\n",
      "  z_scores = np.abs((crop_df - crop_df.mean()) / crop_df.std(ddof=0))\n",
      "C:\\Users\\pooja\\AppData\\Local\\Temp\\ipykernel_65632\\3019596091.py:10: FutureWarning: Dropping of nuisance columns in DataFrame reductions (with 'numeric_only=None') is deprecated; in a future version this will raise TypeError.  Select only valid columns before calling the reduction.\n",
      "  z_scores = np.abs((crop_df - crop_df.mean()) / crop_df.std(ddof=0))\n"
     ]
    },
    {
     "name": "stdout",
     "output_type": "stream",
     "text": [
      "Outliers for onion: 420\n",
      "      Crop_class  B02_refl  B03_refl  B04_refl  B08_refl\n",
      "4810       onion  1.959710  2.892450  2.855981  2.436712\n",
      "4821       onion  2.006251  3.489592  3.596255  2.790994\n",
      "4832       onion  2.022936  3.195829  2.864690  1.723709\n",
      "5294       onion -0.918834 -0.976298 -0.975151  2.925959\n",
      "5312       onion -0.918834 -0.976298 -0.975151  3.695790\n",
      "...          ...       ...       ...       ...       ...\n",
      "81887      onion -0.918834  2.012036  2.964845  3.401887\n",
      "81904      onion -0.918834  2.375742  3.180831  3.419645\n",
      "81921      onion -0.918834  2.569835  3.323660  3.266922\n",
      "81938      onion  2.038743  2.678248  3.229602  2.933062\n",
      "81955      onion  2.128313  2.583824  2.933492  2.551255\n",
      "\n",
      "[420 rows x 5 columns]\n",
      "Outliers for Wheat: 0\n",
      "Empty DataFrame\n",
      "Columns: [Crop_class, B02_refl, B03_refl, B04_refl, B08_refl]\n",
      "Index: []\n",
      "Outliers for maize: 58\n",
      "      Crop_class  B02_refl  B03_refl  B04_refl  B08_refl\n",
      "11458      maize  4.093591  4.234490  4.129252 -0.938290\n",
      "11465      maize  4.118179  4.289570  4.110963 -0.938290\n",
      "11472      maize  3.826637  3.891767  3.913266 -0.938290\n",
      "11479      maize  4.008412  4.101597  4.056095 -0.938290\n",
      "11486      maize  4.095348  4.426835  4.334786 -0.938290\n",
      "11492      maize -0.918834 -0.976298  2.416172  4.040305\n",
      "11493      maize  4.088323  4.537870  4.292112 -0.938290\n",
      "11499      maize -0.918834 -0.976298  2.920429  4.176157\n",
      "11500      maize  4.142767  4.459183  4.072643 -0.938290\n",
      "11506      maize -0.918834 -0.976298  3.132060  3.987917\n",
      "11507      maize  4.034756  4.074494  3.752148 -0.938290\n",
      "16378      maize  4.679311  3.577021  2.089581  1.528365\n",
      "16384      maize  4.623110  3.248287  1.945010  1.790303\n",
      "16390      maize  4.588863  2.975508  1.745571  1.665106\n",
      "16395      maize  0.394864  0.493389 -0.975151  4.528663\n",
      "16396      maize  4.596766  2.728083  1.686349  1.688192\n",
      "16401      maize  0.377301  0.385851 -0.975151  4.620119\n",
      "16407      maize  0.348322  0.337765 -0.975151  4.613016\n",
      "16413      maize  0.372910  0.340387 -0.975151  4.488707\n",
      "32288      maize  3.974164  4.102472  3.996873 -0.938290\n",
      "32295      maize  3.995240  4.154055  3.999486 -0.938290\n",
      "32302      maize  3.714235  3.772863  3.787855 -0.938290\n",
      "32309      maize  3.884594  3.973076  3.926330 -0.938290\n",
      "32316      maize  3.987336  4.293942  4.180635 -0.938290\n",
      "32322      maize -0.918834 -0.976298  2.364788  3.912443\n",
      "32323      maize  3.959236  4.377874  4.150154 -0.938290\n",
      "32329      maize -0.918834 -0.976298  2.835950  4.044744\n",
      "32330      maize  4.009290  4.304433  3.936781 -0.938290\n",
      "32336      maize -0.918834 -0.976298  3.044969  3.866271\n",
      "32337      maize  3.903913  3.965208  3.650251 -0.938290\n",
      "37225      maize  0.426477  0.515246 -0.975151  4.389259\n",
      "37231      maize  0.410670  0.416451 -0.975151  4.470948\n",
      "37237      maize  0.384326  0.370113 -0.975151  4.467396\n",
      "37243      maize  0.407158  0.371862 -0.975151  4.357294\n",
      "53118      maize  4.076029  4.140066  3.894106 -0.938290\n",
      "53125      maize  4.048806  4.056134  3.884526 -0.938290\n",
      "53132      maize  3.946064  3.895264  3.724279 -0.938290\n",
      "53139      maize  3.910060  4.052637  3.813982 -0.938290\n",
      "53146      maize  4.020706  4.241484  3.892364 -0.938290\n",
      "53153      maize  4.097104  4.269462  3.846206 -0.938290\n",
      "53159      maize -0.918834 -0.976298  3.145994  3.998572\n",
      "53160      maize  4.189309  4.157552  3.755631 -0.938290\n",
      "53166      maize -0.918834 -0.976298  3.020583  3.856504\n",
      "53167      maize  4.059344  3.986191  3.685959 -0.938290\n",
      "58061      maize  0.547660  0.564207 -0.975151  3.880478\n",
      "58067      maize  0.530976  0.500383 -0.975151  3.863608\n",
      "73948      maize  4.104129  4.168044  3.926330 -0.938290\n",
      "73955      maize  4.076029  4.087609  3.908911 -0.938290\n",
      "73962      maize  3.974164  3.923242  3.748664 -0.938290\n",
      "73969      maize  3.939039  4.080614  3.839239 -0.938290\n",
      "73976      maize  4.047928  4.269462  3.915879 -0.938290\n",
      "73983      maize  4.121692  4.300936  3.870591 -0.938290\n",
      "73989      maize -0.918834 -0.976298  3.166896  4.023434\n",
      "73990      maize  4.223556  4.189027  3.783500 -0.938290\n",
      "73996      maize -0.918834 -0.976298  3.038002  3.881366\n",
      "73997      maize  4.069003  4.010671  3.713828 -0.938290\n",
      "78891      maize  0.539757  0.555464 -0.975151  3.902676\n",
      "78897      maize  0.522194  0.492514 -0.975151  3.888469\n",
      "Outliers for wheat: 798\n",
      "      Crop_class  B02_refl  B03_refl  B04_refl  B08_refl\n",
      "4515       wheat  3.647496  3.748383  3.435136  3.256267\n",
      "4520       wheat  3.528069  3.517569  3.236569  3.004984\n",
      "4525       wheat  3.440255  3.412654  3.255729  2.780339\n",
      "4530       wheat  3.549144  3.555164  3.404655  2.689771\n",
      "4535       wheat  3.834540  3.925864  3.466489  2.358575\n",
      "...          ...       ...       ...       ...       ...\n",
      "82919      wheat  3.454305  3.517569  3.128576 -0.938290\n",
      "82942      wheat  2.051037  2.415960  2.943943  3.348611\n",
      "82943      wheat  3.415667  3.510575  3.128576 -0.938290\n",
      "82967      wheat  3.352441  3.517569  2.926525 -0.938290\n",
      "82991      wheat  3.327853  3.398666  2.682670 -0.938290\n",
      "\n",
      "[798 rows x 5 columns]\n"
     ]
    },
    {
     "name": "stderr",
     "output_type": "stream",
     "text": [
      "C:\\Users\\pooja\\AppData\\Local\\Temp\\ipykernel_65632\\3019596091.py:10: FutureWarning: Dropping of nuisance columns in DataFrame reductions (with 'numeric_only=None') is deprecated; in a future version this will raise TypeError.  Select only valid columns before calling the reduction.\n",
      "  z_scores = np.abs((crop_df - crop_df.mean()) / crop_df.std(ddof=0))\n",
      "C:\\Users\\pooja\\AppData\\Local\\Temp\\ipykernel_65632\\3019596091.py:10: FutureWarning: Dropping of nuisance columns in DataFrame reductions (with 'numeric_only=None') is deprecated; in a future version this will raise TypeError.  Select only valid columns before calling the reduction.\n",
      "  z_scores = np.abs((crop_df - crop_df.mean()) / crop_df.std(ddof=0))\n",
      "C:\\Users\\pooja\\AppData\\Local\\Temp\\ipykernel_65632\\3019596091.py:10: FutureWarning: Dropping of nuisance columns in DataFrame reductions (with 'numeric_only=None') is deprecated; in a future version this will raise TypeError.  Select only valid columns before calling the reduction.\n",
      "  z_scores = np.abs((crop_df - crop_df.mean()) / crop_df.std(ddof=0))\n",
      "C:\\Users\\pooja\\AppData\\Local\\Temp\\ipykernel_65632\\3019596091.py:10: FutureWarning: Dropping of nuisance columns in DataFrame reductions (with 'numeric_only=None') is deprecated; in a future version this will raise TypeError.  Select only valid columns before calling the reduction.\n",
      "  z_scores = np.abs((crop_df - crop_df.mean()) / crop_df.std(ddof=0))\n",
      "C:\\Users\\pooja\\AppData\\Local\\Temp\\ipykernel_65632\\3019596091.py:10: FutureWarning: Dropping of nuisance columns in DataFrame reductions (with 'numeric_only=None') is deprecated; in a future version this will raise TypeError.  Select only valid columns before calling the reduction.\n",
      "  z_scores = np.abs((crop_df - crop_df.mean()) / crop_df.std(ddof=0))\n"
     ]
    },
    {
     "name": "stdout",
     "output_type": "stream",
     "text": [
      "Outliers for beet_root: 10\n",
      "      Crop_class  B02_refl  B03_refl  B04_refl  B08_refl\n",
      "44074  beet_root -0.918834 -0.976298  1.716831  2.805201\n",
      "44075  beet_root  3.187350  2.992993  2.888205 -0.938290\n",
      "44081  beet_root -0.918834 -0.976298  1.776924  2.815856\n",
      "44088  beet_root -0.918834  0.966381  1.863144  2.787443\n",
      "44089  beet_root  3.039823  2.926547  2.748859 -0.938290\n",
      "64904  beet_root -0.918834 -0.976298  1.719444  2.815856\n",
      "64905  beet_root  3.197888  3.006982  2.902140 -0.938290\n",
      "64911  beet_root -0.918834 -0.976298  1.782149  2.822960\n",
      "64918  beet_root -0.918834  0.959387  1.867499  2.805201\n",
      "64919  beet_root  3.057386  2.944033  2.759310 -0.938290\n",
      "Outliers for flow_onion: 0\n",
      "Empty DataFrame\n",
      "Columns: [Crop_class, B02_refl, B03_refl, B04_refl, B08_refl]\n",
      "Index: []\n",
      "Outliers for wheat_harv: 0\n",
      "Empty DataFrame\n",
      "Columns: [Crop_class, B02_refl, B03_refl, B04_refl, B08_refl]\n",
      "Index: []\n",
      "Outliers for marigold: 0\n",
      "Empty DataFrame\n",
      "Columns: [Crop_class, B02_refl, B03_refl, B04_refl, B08_refl]\n",
      "Index: []\n",
      "Outliers for G: 10\n",
      "      Crop_class  B02_refl  B03_refl  B04_refl  B08_refl\n",
      "17280          G -0.918834 -0.976298  2.316017  3.387680\n",
      "17288          G -0.918834 -0.976298  2.869916  3.668264\n",
      "17289          G  3.591295  3.489592  2.996198 -0.938290\n",
      "17296          G -0.918834 -0.976298  2.672219  3.370809\n",
      "38110          G -0.918834 -0.976298  2.283794  3.302439\n",
      "38118          G -0.918834 -0.976298  2.804598  3.561713\n",
      "38119          G  3.511384  3.412654  2.923041 -0.938290\n",
      "38126          G -0.918834 -0.976298  2.616481  3.285569\n",
      "54478          G  0.340419 -0.976298 -0.975151  3.224302\n",
      "75308          G  0.329003 -0.976298 -0.975151  3.238509\n",
      "Outliers for coriander: 0\n",
      "Empty DataFrame\n",
      "Columns: [Crop_class, B02_refl, B03_refl, B04_refl, B08_refl]\n",
      "Index: []\n",
      "Outliers for U4: 8\n",
      "      Crop_class  B02_refl  B03_refl  B04_refl  B08_refl\n",
      "13854         U4  1.856968  3.294625  3.093740  2.583220\n",
      "13865         U4  1.864871  3.315608  3.121609  2.490876\n",
      "55514         U4  2.186270  3.206321  3.240053  2.780339\n",
      "55525         U4  2.137094  3.403037  3.215667  2.722624\n",
      "55536         U4  2.235446  3.332219  3.100707  2.611634\n",
      "76344         U4  2.200321  3.216813  3.250504  2.790994\n",
      "76355         U4  2.145876  3.426643  3.236569  2.734167\n",
      "76366         U4  2.244228  3.353202  3.121609  2.618737\n",
      "Outliers for jwar: 1\n",
      "      Crop_class  B02_refl  B03_refl  B04_refl  B08_refl\n",
      "18949       jwar -0.918834 -0.976298 -0.975151  2.423394\n",
      "Outliers for bajra: 0\n",
      "Empty DataFrame\n",
      "Columns: [Crop_class, B02_refl, B03_refl, B04_refl, B08_refl]\n",
      "Index: []\n"
     ]
    },
    {
     "name": "stderr",
     "output_type": "stream",
     "text": [
      "C:\\Users\\pooja\\AppData\\Local\\Temp\\ipykernel_65632\\3019596091.py:10: FutureWarning: Dropping of nuisance columns in DataFrame reductions (with 'numeric_only=None') is deprecated; in a future version this will raise TypeError.  Select only valid columns before calling the reduction.\n",
      "  z_scores = np.abs((crop_df - crop_df.mean()) / crop_df.std(ddof=0))\n",
      "C:\\Users\\pooja\\AppData\\Local\\Temp\\ipykernel_65632\\3019596091.py:10: FutureWarning: Dropping of nuisance columns in DataFrame reductions (with 'numeric_only=None') is deprecated; in a future version this will raise TypeError.  Select only valid columns before calling the reduction.\n",
      "  z_scores = np.abs((crop_df - crop_df.mean()) / crop_df.std(ddof=0))\n",
      "C:\\Users\\pooja\\AppData\\Local\\Temp\\ipykernel_65632\\3019596091.py:10: FutureWarning: Dropping of nuisance columns in DataFrame reductions (with 'numeric_only=None') is deprecated; in a future version this will raise TypeError.  Select only valid columns before calling the reduction.\n",
      "  z_scores = np.abs((crop_df - crop_df.mean()) / crop_df.std(ddof=0))\n",
      "C:\\Users\\pooja\\AppData\\Local\\Temp\\ipykernel_65632\\3019596091.py:10: FutureWarning: Dropping of nuisance columns in DataFrame reductions (with 'numeric_only=None') is deprecated; in a future version this will raise TypeError.  Select only valid columns before calling the reduction.\n",
      "  z_scores = np.abs((crop_df - crop_df.mean()) / crop_df.std(ddof=0))\n"
     ]
    }
   ],
   "source": [
    "import numpy as np\n",
    "crop_types = df['Crop_class'].unique()\n",
    "\n",
    "\n",
    "for crop in crop_types:\n",
    "    \n",
    "    crop_df = df[df['Crop_class'] == crop]\n",
    "    \n",
    "    \n",
    "    z_scores = np.abs((crop_df - crop_df.mean()) / crop_df.std(ddof=0))\n",
    "    \n",
    "    \n",
    "    outlier_mask = (z_scores > 3).any(axis=1)\n",
    "    outlier_rows = crop_df[outlier_mask]\n",
    "    \n",
    "    \n",
    "    df = df.drop(outlier_rows.index)\n",
    "    \n",
    "   \n",
    "    print(f'Outliers for {crop}: {len(outlier_rows)}')\n",
    "    print(outlier_rows)\n",
    "\n",
    "\n"
   ]
  },
  {
   "cell_type": "code",
   "execution_count": 18,
   "id": "06bf0bd3",
   "metadata": {
    "scrolled": true
   },
   "outputs": [
    {
     "name": "stdout",
     "output_type": "stream",
     "text": [
      "  Crop_class  B02_refl  B03_refl  B04_refl  B08_refl\n",
      "0      chana  0.306172  0.270444 -0.975151 -0.938290\n",
      "1      chana -0.918834 -0.976298 -0.975151  0.535666\n",
      "2      chana  0.545026 -0.976298 -0.975151 -0.938290\n",
      "3      chana -0.918834 -0.976298  0.559392  0.623570\n",
      "4      chana -0.918834 -0.976298 -0.975151 -0.938290\n"
     ]
    }
   ],
   "source": [
    "print(df.head())"
   ]
  },
  {
   "cell_type": "code",
   "execution_count": 19,
   "id": "55287d9b",
   "metadata": {
    "scrolled": true
   },
   "outputs": [
    {
     "name": "stdout",
     "output_type": "stream",
     "text": [
      "81788\n"
     ]
    }
   ],
   "source": [
    "print(len(df))"
   ]
  },
  {
   "cell_type": "code",
   "execution_count": 20,
   "id": "f3fd2df4",
   "metadata": {},
   "outputs": [],
   "source": [
    "ndf=df.copy(deep=True)\n"
   ]
  },
  {
   "cell_type": "code",
   "execution_count": 21,
   "id": "7eedd6b9",
   "metadata": {
    "scrolled": true
   },
   "outputs": [
    {
     "name": "stdout",
     "output_type": "stream",
     "text": [
      "chana: 2069 records\n",
      "Garlic: 8338 records\n",
      "G_Onion: 5242 records\n",
      "onion: 31428 records\n",
      "Wheat: 720 records\n",
      "maize: 818 records\n",
      "wheat: 29082 records\n",
      "beet_root: 242 records\n",
      "flow_onion: 484 records\n",
      "wheat_harv: 892 records\n",
      "marigold: 176 records\n",
      "G: 706 records\n",
      "coriander: 480 records\n",
      "U4: 740 records\n",
      "jwar: 191 records\n",
      "bajra: 180 records\n"
     ]
    }
   ],
   "source": [
    "crop_types = df['Crop_class'].unique()\n",
    "\n",
    "\n",
    "for crop_type in crop_types:\n",
    "    count = df[df['Crop_class'] == crop_type].shape[0]\n",
    "    print(f'{crop_type}: {count} records')\n"
   ]
  },
  {
   "cell_type": "markdown",
   "id": "6cc53b75",
   "metadata": {},
   "source": [
    "# Modeling Techniques"
   ]
  },
  {
   "cell_type": "code",
   "execution_count": 22,
   "id": "64b9ff1a",
   "metadata": {
    "scrolled": true
   },
   "outputs": [
    {
     "name": "stdout",
     "output_type": "stream",
     "text": [
      "81788\n"
     ]
    }
   ],
   "source": [
    "print(len(df))"
   ]
  },
  {
   "cell_type": "code",
   "execution_count": 23,
   "id": "ea93a703",
   "metadata": {},
   "outputs": [
    {
     "name": "stdout",
     "output_type": "stream",
     "text": [
      "['chana' 'Garlic' 'G_Onion' 'onion' 'Wheat' 'maize' 'wheat' 'beet_root'\n",
      " 'flow_onion' 'wheat_harv' 'marigold' 'G' 'coriander' 'U4' 'jwar' 'bajra']\n"
     ]
    }
   ],
   "source": [
    "crop_types = df['Crop_class'].unique()\n",
    "print(crop_types)"
   ]
  },
  {
   "cell_type": "markdown",
   "id": "65786752",
   "metadata": {},
   "source": [
    "# Decision Tree Classifier"
   ]
  },
  {
   "cell_type": "code",
   "execution_count": 24,
   "id": "34ec2dc0",
   "metadata": {
    "scrolled": false
   },
   "outputs": [
    {
     "name": "stdout",
     "output_type": "stream",
     "text": [
      "Final accuracy: 0.9777268677612321\n"
     ]
    }
   ],
   "source": [
    "\n",
    "import pandas as pd\n",
    "from sklearn.model_selection import train_test_split\n",
    "from sklearn.preprocessing import LabelEncoder\n",
    "from sklearn.tree import DecisionTreeClassifier\n",
    "from sklearn.metrics import accuracy_score\n",
    "\n",
    "\n",
    "\n",
    "\n",
    "\n",
    "df = df[['Crop_class', 'B02_refl', 'B03_refl', 'B04_refl', 'B08_refl']]\n",
    "\n",
    "\n",
    "le = LabelEncoder()\n",
    "df['Crop_class'] = le.fit_transform(df['Crop_class'])\n",
    "\n",
    "\n",
    "X_train, X_test, y_train, y_test = train_test_split(df.drop('Crop_class', axis=1), df['Crop_class'], test_size=0.4, random_state=42)\n",
    "\n",
    "\n",
    "model = DecisionTreeClassifier()\n",
    "model.fit(X_train, y_train)\n",
    "y_pred = model.predict(X_test)\n",
    "accuracy = accuracy_score(y_test, y_pred)\n",
    "\n",
    "\n",
    "while accuracy < 0.95:\n",
    "    \n",
    "    onion_indices = df[df['Crop_class'] == le.transform(['onion'])[0]].index\n",
    "\n",
    "    # Split the data into training and testing sets, ensuring that there are onion crops in both sets\n",
    "    X_train = df[df.index.isin(onion_indices) | ~df['Crop_class'].isin(onion_indices)].drop('Crop_class', axis=1)\n",
    "    y_train = df[df.index.isin(onion_indices) | ~df['Crop_class'].isin(onion_indices)]['Crop_class']\n",
    "    X_test = df[df.index.isin(onion_indices)].drop('Crop_class', axis=1)\n",
    "    y_test = df[df.index.isin(onion_indices)]['Crop_class']\n",
    "\n",
    "   \n",
    "    model.fit(X_train, y_train)\n",
    "    y_pred = model.predict(X_test)\n",
    "    accuracy = accuracy_score(y_test, y_pred)\n",
    "\n",
    "\n",
    "print(f\"Final accuracy: {accuracy}\")\n"
   ]
  },
  {
   "cell_type": "markdown",
   "id": "57d1d14e",
   "metadata": {},
   "source": [
    "# Decision Tree Evaluation"
   ]
  },
  {
   "cell_type": "markdown",
   "id": "9d3c4f2a",
   "metadata": {},
   "source": [
    "# Accuracy, Precision Score, Recall, F1 Score"
   ]
  },
  {
   "cell_type": "code",
   "execution_count": 25,
   "id": "6e55d883",
   "metadata": {
    "scrolled": true
   },
   "outputs": [
    {
     "name": "stdout",
     "output_type": "stream",
     "text": [
      "Accuracy: 0.9777268677612321\n",
      "Precision: 1.0\n",
      "Recall: 0.9777268677612321\n",
      "F1 Score: 0.9887380140292168\n"
     ]
    },
    {
     "name": "stderr",
     "output_type": "stream",
     "text": [
      "C:\\Users\\pooja\\AppData\\Local\\Programs\\Python\\Python310\\lib\\site-packages\\sklearn\\metrics\\_classification.py:1334: UndefinedMetricWarning: Recall is ill-defined and being set to 0.0 in labels with no true samples. Use `zero_division` parameter to control this behavior.\n",
      "  _warn_prf(average, modifier, msg_start, len(result))\n"
     ]
    }
   ],
   "source": [
    "from sklearn.metrics import accuracy_score, precision_score, recall_score, f1_score\n",
    "\n",
    "\n",
    "accuracy = accuracy_score(y_test, y_pred)\n",
    "precision = precision_score(y_test, y_pred, average='weighted')\n",
    "recall = recall_score(y_test, y_pred, average='weighted')\n",
    "f1 = f1_score(y_test, y_pred, average='weighted')\n",
    "\n",
    "\n",
    "print(f\"Accuracy: {accuracy}\")\n",
    "print(f\"Precision: {precision}\")\n",
    "print(f\"Recall: {recall}\")\n",
    "print(f\"F1 Score: {f1}\")\n"
   ]
  },
  {
   "cell_type": "markdown",
   "id": "10f60d15",
   "metadata": {},
   "source": [
    "# R2 Score and Gini Importance"
   ]
  },
  {
   "cell_type": "code",
   "execution_count": 32,
   "id": "8ef281dc",
   "metadata": {},
   "outputs": [
    {
     "name": "stdout",
     "output_type": "stream",
     "text": [
      "Train R2 score: 0.6559674710364141\n",
      "Test R2 score: 0.0\n"
     ]
    },
    {
     "data": {
      "image/png": "[encoded data removed]",
      "text/plain": [
       "<Figure size 864x432 with 1 Axes>"
      ]
     },
     "metadata": {
      "needs_background": "light"
     },
     "output_type": "display_data"
    }
   ],
   "source": [
    "from sklearn.metrics import r2_score, log_loss\n",
    "from sklearn.tree import export_graphviz\n",
    "from sklearn.metrics import roc_auc_score\n",
    "import matplotlib.pyplot as plt\n",
    "\n",
    "# R2 score\n",
    "y_pred_train = model.predict(X_train)\n",
    "r2_train = r2_score(y_train, y_pred_train)\n",
    "y_pred_test = model.predict(X_test)\n",
    "r2_test = r2_score(y_test, y_pred_test)\n",
    "print(f\"Train R2 score: {r2_train}\")\n",
    "print(f\"Test R2 score: {r2_test}\")\n",
    "\n",
    "\n",
    "# Gini importance\n",
    "features = ['B02_refl', 'B03_refl', 'B04_refl', 'B08_refl']\n",
    "importances = model.feature_importances_\n",
    "indices = np.argsort(importances)[::-1]\n",
    "\n",
    "plt.figure(figsize=(12,6))\n",
    "plt.title(\"Feature importances\")\n",
    "plt.bar(range(len(features)), importances[indices], color=\"r\", align=\"center\")\n",
    "plt.xticks(range(len(features)), [features[i] for i in indices])\n",
    "plt.xlabel('Features')\n",
    "plt.ylabel('Importance')\n",
    "plt.show()\n"
   ]
  },
  {
   "cell_type": "markdown",
   "id": "9f7214cc",
   "metadata": {},
   "source": [
    "# Random Forest"
   ]
  },
  {
   "cell_type": "code",
   "execution_count": 26,
   "id": "d83e87fc",
   "metadata": {},
   "outputs": [
    {
     "name": "stdout",
     "output_type": "stream",
     "text": [
      "Accuracy: 0.9761677485045183\n",
      "Final accuracy: 0.9761677485045183\n"
     ]
    }
   ],
   "source": [
    "\n",
    "import pandas as pd\n",
    "from sklearn.model_selection import train_test_split\n",
    "from sklearn.preprocessing import LabelEncoder\n",
    "from sklearn.ensemble import RandomForestClassifier\n",
    "from sklearn.metrics import accuracy_score\n",
    "\n",
    "\n",
    "\n",
    "ndf = ndf[['Crop_class', 'B02_refl', 'B03_refl', 'B04_refl', 'B08_refl']]\n",
    "\n",
    "\n",
    "le = LabelEncoder()\n",
    "ndf['Crop_class'] = le.fit_transform(ndf['Crop_class'])\n",
    "\n",
    "\n",
    "X_train, X_test, y_train, y_test = train_test_split(ndf.drop('Crop_class', axis=1), ndf['Crop_class'], test_size=0.4, random_state=42)\n",
    "\n",
    "\n",
    "model = RandomForestClassifier(n_estimators=100, random_state=42)\n",
    "model.fit(X_train, y_train)\n",
    "y_pred = model.predict(X_test)\n",
    "accuracy = accuracy_score(y_test, y_pred)\n",
    "\n",
    "# Iterate to improve accuracy\n",
    "while accuracy < 0.95:\n",
    "    \n",
    "    onion_indices = ndf[ndf['Crop_class'] == le.transform(['onion'])[0]].index\n",
    "\n",
    "    # Split the data into training and testing sets, ensuring that there are onion crops in both sets\n",
    "    X_train = ndf[df.index.isin(onion_indices) | ~ndf['Crop_class'].isin(onion_indices)].drop('Crop_class', axis=1)\n",
    "    y_train = ndf[df.index.isin(onion_indices) | ~ndf['Crop_class'].isin(onion_indices)]['Crop_class']\n",
    "    X_test = ndf[df.index.isin(onion_indices)].drop('Crop_class', axis=1)\n",
    "    y_test = ndf[df.index.isin(onion_indices)]['Crop_class']\n",
    "\n",
    "    \n",
    "    model.fit(X_train, y_train)\n",
    "    y_pred = model.predict(X_test)\n",
    "    accuracy = accuracy_score(y_test, y_pred)\n",
    "    print(f\"Accuracy: {accuracy}\")\n",
    "\n",
    "print(f\"Final accuracy: {accuracy}\")\n"
   ]
  },
  {
   "cell_type": "markdown",
   "id": "1258f936",
   "metadata": {},
   "source": [
    "# Random Forest Evaluation"
   ]
  },
  {
   "cell_type": "markdown",
   "id": "438026db",
   "metadata": {},
   "source": [
    "# Accuracy, Precision, Recall and F1 Score"
   ]
  },
  {
   "cell_type": "code",
   "execution_count": 27,
   "id": "47093166",
   "metadata": {
    "scrolled": true
   },
   "outputs": [
    {
     "name": "stdout",
     "output_type": "stream",
     "text": [
      "Accuracy: 0.9761677485045183\n",
      "Precision: 1.0\n",
      "Recall: 0.9761677485045183\n",
      "F1 Score: 0.987940167774969\n"
     ]
    },
    {
     "name": "stderr",
     "output_type": "stream",
     "text": [
      "C:\\Users\\pooja\\AppData\\Local\\Programs\\Python\\Python310\\lib\\site-packages\\sklearn\\metrics\\_classification.py:1334: UndefinedMetricWarning: Recall is ill-defined and being set to 0.0 in labels with no true samples. Use `zero_division` parameter to control this behavior.\n",
      "  _warn_prf(average, modifier, msg_start, len(result))\n"
     ]
    }
   ],
   "source": [
    "from sklearn.metrics import accuracy_score, precision_score, recall_score, f1_score\n",
    "\n",
    "\n",
    "accuracy = accuracy_score(y_test, y_pred)\n",
    "precision = precision_score(y_test, y_pred, average='weighted')\n",
    "recall = recall_score(y_test, y_pred, average='weighted')\n",
    "f1 = f1_score(y_test, y_pred, average='weighted')\n",
    "\n",
    "\n",
    "print(f\"Accuracy: {accuracy}\")\n",
    "print(f\"Precision: {precision}\")\n",
    "print(f\"Recall: {recall}\")\n",
    "print(f\"F1 Score: {f1}\")"
   ]
  },
  {
   "cell_type": "markdown",
   "id": "41001570",
   "metadata": {},
   "source": [
    "# R2 Score and Gini Importance"
   ]
  },
  {
   "cell_type": "code",
   "execution_count": 34,
   "id": "1d935658",
   "metadata": {
    "scrolled": false
   },
   "outputs": [
    {
     "name": "stdout",
     "output_type": "stream",
     "text": [
      "Train R2 score: 0.6559674710364141\n",
      "Test R2 score: 0.0\n"
     ]
    },
    {
     "data": {
      "image/png": "[encoded data removed]",
      "text/plain": [
       "<Figure size 864x432 with 1 Axes>"
      ]
     },
     "metadata": {
      "needs_background": "light"
     },
     "output_type": "display_data"
    }
   ],
   "source": [
    "from sklearn.metrics import r2_score, log_loss\n",
    "from sklearn.tree import export_graphviz\n",
    "from sklearn.metrics import roc_auc_score\n",
    "import matplotlib.pyplot as plt\n",
    "\n",
    "# R2 score\n",
    "y_pred_train = model.predict(X_train)\n",
    "r2_train = r2_score(y_train, y_pred_train)\n",
    "y_pred_test = model.predict(X_test)\n",
    "r2_test = r2_score(y_test, y_pred_test)\n",
    "print(f\"Train R2 score: {r2_train}\")\n",
    "print(f\"Test R2 score: {r2_test}\")\n",
    "\n",
    "\n",
    "# Gini importance\n",
    "features = ['B02_refl', 'B03_refl', 'B04_refl', 'B08_refl']\n",
    "importances = model.feature_importances_\n",
    "indices = np.argsort(importances)[::-1]\n",
    "\n",
    "plt.figure(figsize=(12,6))\n",
    "plt.title(\"Feature importances\")\n",
    "plt.bar(range(len(features)), importances[indices], color=\"r\", align=\"center\")\n",
    "plt.xticks(range(len(features)), [features[i] for i in indices])\n",
    "plt.xlabel('Features')\n",
    "plt.ylabel('Importance')\n",
    "plt.show()"
   ]
  },
  {
   "cell_type": "code",
   "execution_count": null,
   "id": "c22213a3",
   "metadata": {},
   "outputs": [],
   "source": []
  }
 ],
 "metadata": {
  "kernelspec": {
   "display_name": "Python 3 (ipykernel)",
   "language": "python",
   "name": "python3"
  },
  "language_info": {
   "codemirror_mode": {
    "name": "ipython",
    "version": 3
   },
   "file_extension": ".py",
   "mimetype": "text/x-python",
   "name": "python",
   "nbconvert_exporter": "python",
   "pygments_lexer": "ipython3",
   "version": "3.10.0"
  }
 },
 "nbformat": 4,
 "nbformat_minor": 5
}
